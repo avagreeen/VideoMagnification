{
 "cells": [
  {
   "cell_type": "code",
   "execution_count": 1,
   "metadata": {},
   "outputs": [],
   "source": [
    "import cv2\n",
    "%matplotlib inline\n",
    "import matplotlib.pyplot as plt # plt 用于显示图片\n",
    "import numpy as np\n",
    "import colorsys\n",
    "\n",
    "raw_video = './hands.mp4'\n",
    "result_video = './hands_result.avi'"
   ]
  },
  {
   "cell_type": "code",
   "execution_count": 2,
   "metadata": {},
   "outputs": [],
   "source": [
    "def yiq_to_rgb_new(y, i, q):\n",
    "    r = y + 0.948262*i + 0.624013*q\n",
    "    g = y - 0.276066*i - 0.639810*q\n",
    "    b = y - 1.105450*i + 1.729860*q\n",
    "    return (r, g, b)\n"
   ]
  },
  {
   "cell_type": "code",
   "execution_count": 29,
   "metadata": {},
   "outputs": [
    {
     "name": "stdout",
     "output_type": "stream",
     "text": [
      "<type 'numpy.ndarray'> (360, 640, 3)\n"
     ]
    }
   ],
   "source": [
    "cap = cv2.VideoCapture(raw_video)\n",
    "cap.set(1, 1)\n",
    "ret, refIm = cap.read()\n",
    "print type(refIm),refIm.shape\n",
    "cv2.imshow('img',refIm)\n"
   ]
  }
 ],
 "metadata": {
  "kernelspec": {
   "display_name": "Python 2",
   "language": "python",
   "name": "python2"
  },
  "language_info": {
   "codemirror_mode": {
    "name": "ipython",
    "version": 2
   },
   "file_extension": ".py",
   "mimetype": "text/x-python",
   "name": "python",
   "nbconvert_exporter": "python",
   "pygments_lexer": "ipython2",
   "version": "2.7.13"
  }
 },
 "nbformat": 4,
 "nbformat_minor": 2
}
